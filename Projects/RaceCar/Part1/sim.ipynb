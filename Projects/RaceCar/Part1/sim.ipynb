{
 "cells": [
  {
   "attachments": {},
   "cell_type": "markdown",
   "metadata": {},
   "source": [
    "Creating OpenAI Gym Environment   \n",
    "[Part 1](https://gerardmaggiolino.medium.com/creating-openai-gym-environments-with-pybullet-part-1-13895a622b24)  |  [Part 2](https://gerardmaggiolino.medium.com/creating-openai-gym-environments-with-pybullet-part-2-a1441b9a4d8e)  \n",
    "[Video 1](https://urldefense.com/v3/__https://www.youtube.com/watch?v=tozzb6xC1LI__;!!Mih3wA!Buejbwp2bgHIMcIvfX7xWLQr6D-qXoKnlnkY_rIRrQEL0KTlHL8E_qtZHCSQTc3S3kCAQtqNhRyLrw$)  |  [Video 2](https://www.youtube.com/watch?v=DZ5Px-ocelw)"
   ]
  },
  {
   "cell_type": "code",
   "execution_count": 1,
   "metadata": {},
   "outputs": [
    {
     "name": "stderr",
     "output_type": "stream",
     "text": [
      "pybullet build time: Apr  8 2023 22:18:57\n"
     ]
    }
   ],
   "source": [
    "import pybullet as p\n",
    "import pybullet_data"
   ]
  },
  {
   "cell_type": "code",
   "execution_count": 2,
   "metadata": {},
   "outputs": [
    {
     "name": "stderr",
     "output_type": "stream",
     "text": [
      "2023-05-07 19:28:56.832 Python[68890:2214085] ApplePersistenceIgnoreState: Existing state will not be touched. New state will be written to /var/folders/j3/7jchtq_n7cz4zm5b85nj95lc0000gn/T/org.python.python.savedState\n"
     ]
    },
    {
     "name": "stdout",
     "output_type": "stream",
     "text": [
      "Version = 4.1 ATI-4.9.51\n",
      "Vendor = ATI Technologies Inc.\n",
      "Renderer = AMD Radeon Pro 5500M OpenGL Engine\n",
      "b3Printf: Selected demo: Physics Server\n",
      "startThreads creating 1 threads.\n",
      "starting thread 0\n",
      "started thread 0 \n",
      "MotionThreadFunc thread started\n"
     ]
    }
   ],
   "source": [
    "client = p.connect(p.GUI) # Can alternatively pass in p.DIRECT \n",
    "p.setAdditionalSearchPath(pybullet_data.getDataPath()) # Gives paths to data like existing URDFs\n",
    "p.setGravity(0, 0, -9.8, physicsClientId=client)"
   ]
  },
  {
   "cell_type": "code",
   "execution_count": 3,
   "metadata": {},
   "outputs": [],
   "source": [
    "# These add controllable parameters to the GUI\n",
    "# pause = p.addUserDebugParameter('Pause', 1, 0, 0)\n",
    "angle = p.addUserDebugParameter('Steering', -0.5, 0.5, 0)\n",
    "throttle = p.addUserDebugParameter('Throttle', 0, 20, 0)"
   ]
  },
  {
   "cell_type": "code",
   "execution_count": 4,
   "metadata": {},
   "outputs": [],
   "source": [
    "original_simulation = False\n",
    "if original_simulation:\n",
    "    carId = p.loadURDF(\"simplecar.urdf\")\n",
    "    while p.isConnected():\n",
    "        pos, ori = p.getBasePositionAndOrientation(carId)\n",
    "        p.applyExternalForce(carId, 0, [1, 0, 0], pos, p.WORLD_FRAME) # p.WORLD_FRAME or p.LINK_FRAME\n",
    "        p.stepSimulation()\n"
   ]
  },
  {
   "cell_type": "code",
   "execution_count": 5,
   "metadata": {},
   "outputs": [
    {
     "name": "stdout",
     "output_type": "stream",
     "text": [
      "0 :  b'base_to_left_hinge'\n",
      "1 :  b'left_hinge_to_left_front_wheel'\n",
      "2 :  b'base_to_right_hinge'\n",
      "3 :  b'right_hinge_to_right_front_wheel'\n",
      "4 :  b'base_to_left_back_wheel'\n",
      "5 :  b'base_to_right_back_wheel'\n"
     ]
    }
   ],
   "source": [
    "plane = p.loadURDF('simpleplane.urdf')\n",
    "carId = p.loadURDF(\"simplecar.urdf\", [0, 0, 0.1])\n",
    "number_of_joints = p.getNumJoints(carId)\n",
    "for joint_number in range(number_of_joints):\n",
    "    info = p.getJointInfo(carId, joint_number)\n",
    "    # print(info)\n",
    "    print(info[0], \": \", info[1])\n",
    "    \n",
    "# From this, we know that the joints connecting to our front and back wheels are 1, 3, 4, and 5,\n",
    "# and our steering joints are 0 and 2.\n",
    "wheel_indices = [1, 3, 4, 5]\n",
    "hinge_indices = [0, 2]"
   ]
  },
  {
   "cell_type": "code",
   "execution_count": 6,
   "metadata": {},
   "outputs": [
    {
     "ename": "KeyboardInterrupt",
     "evalue": "",
     "output_type": "error",
     "traceback": [
      "\u001b[0;31m---------------------------------------------------------------------------\u001b[0m",
      "\u001b[0;31mKeyboardInterrupt\u001b[0m                         Traceback (most recent call last)",
      "Cell \u001b[0;32mIn[6], line 12\u001b[0m\n\u001b[1;32m      8\u001b[0m \u001b[39mfor\u001b[39;00m joint_index \u001b[39min\u001b[39;00m hinge_indices:\n\u001b[1;32m      9\u001b[0m     p\u001b[39m.\u001b[39msetJointMotorControl2(carId, joint_index,\n\u001b[1;32m     10\u001b[0m                             p\u001b[39m.\u001b[39mPOSITION_CONTROL, \n\u001b[1;32m     11\u001b[0m                             targetPosition\u001b[39m=\u001b[39muser_angle)\n\u001b[0;32m---> 12\u001b[0m p\u001b[39m.\u001b[39;49mstepSimulation()\n",
      "\u001b[0;31mKeyboardInterrupt\u001b[0m: "
     ]
    }
   ],
   "source": [
    "while True:\n",
    "    user_angle = p.readUserDebugParameter(angle)\n",
    "    user_throttle = p.readUserDebugParameter(throttle)\n",
    "    for joint_index in wheel_indices:\n",
    "        p.setJointMotorControl2(carId, joint_index,\n",
    "                                p.VELOCITY_CONTROL,\n",
    "                                targetVelocity=user_throttle)\n",
    "    for joint_index in hinge_indices:\n",
    "        p.setJointMotorControl2(carId, joint_index,\n",
    "                                p.POSITION_CONTROL, \n",
    "                                targetPosition=user_angle)\n",
    "    p.stepSimulation()"
   ]
  }
 ],
 "metadata": {
  "kernelspec": {
   "display_name": ".venv",
   "language": "python",
   "name": "python3"
  },
  "language_info": {
   "codemirror_mode": {
    "name": "ipython",
    "version": 3
   },
   "file_extension": ".py",
   "mimetype": "text/x-python",
   "name": "python",
   "nbconvert_exporter": "python",
   "pygments_lexer": "ipython3",
   "version": "3.9.6"
  },
  "orig_nbformat": 4
 },
 "nbformat": 4,
 "nbformat_minor": 2
}
