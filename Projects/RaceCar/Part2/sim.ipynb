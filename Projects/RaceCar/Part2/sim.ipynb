{
 "cells": [
  {
   "attachments": {},
   "cell_type": "markdown",
   "metadata": {},
   "source": [
    "Creating OpenAI Gym Environment   \n",
    "[Part 1](https://gerardmaggiolino.medium.com/creating-openai-gym-environments-with-pybullet-part-1-13895a622b24)  |  [Part 2](https://gerardmaggiolino.medium.com/creating-openai-gym-environments-with-pybullet-part-2-a1441b9a4d8e)  \n",
    "[Video 1](https://urldefense.com/v3/__https://www.youtube.com/watch?v=tozzb6xC1LI__;!!Mih3wA!Buejbwp2bgHIMcIvfX7xWLQr6D-qXoKnlnkY_rIRrQEL0KTlHL8E_qtZHCSQTc3S3kCAQtqNhRyLrw$)  |  [Video 2](https://www.youtube.com/watch?v=DZ5Px-ocelw)  \n",
    "[Guide Repo](https://github.com/GerardMaggiolino/Gym-Medium-Post)"
   ]
  },
  {
   "cell_type": "code",
   "execution_count": null,
   "metadata": {},
   "outputs": [],
   "source": [
    "import gym\n",
    "import simple_driving\n",
    "env = gym.make(\"SimpleDriving-v0\")"
   ]
  }
 ],
 "metadata": {
  "kernelspec": {
   "display_name": ".venv",
   "language": "python",
   "name": "python3"
  },
  "language_info": {
   "codemirror_mode": {
    "name": "ipython",
    "version": 3
   },
   "file_extension": ".py",
   "mimetype": "text/x-python",
   "name": "python",
   "nbconvert_exporter": "python",
   "pygments_lexer": "ipython3",
   "version": "3.9.6"
  },
  "orig_nbformat": 4
 },
 "nbformat": 4,
 "nbformat_minor": 2
}
